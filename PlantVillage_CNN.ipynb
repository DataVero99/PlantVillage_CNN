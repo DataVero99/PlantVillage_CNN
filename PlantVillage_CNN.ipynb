{
 "cells": [
  {
   "cell_type": "code",
   "execution_count": 1,
   "id": "11d16b37",
   "metadata": {},
   "outputs": [],
   "source": [
    "import torch\n",
    "import torchvision\n",
    "import torchvision.transforms as transforms\n",
    "import numpy as np\n",
    "import os\n"
   ]
  },
  {
   "cell_type": "code",
   "execution_count": 2,
   "id": "898e506a",
   "metadata": {},
   "outputs": [],
   "source": [
    "transform = transforms.Compose(\n",
    "    [transforms.Resize((128, 128)),\n",
    "     transforms.ToTensor(),\n",
    "     transforms.Normalize(mean=[0.5, 0.5, 0.5], std=[0.5, 0.5, 0.5])])\n"
   ]
  },
  {
   "cell_type": "code",
   "execution_count": 3,
   "id": "7af55509",
   "metadata": {},
   "outputs": [],
   "source": [
    "import torchvision.transforms as transforms\n",
    "import torch.utils.data as data\n",
    "from torchvision.datasets import ImageFolder\n",
    "\n",
    "# ścieżki do folderów z danymi\n",
    "train_dir = \"./obrazki/\"\n",
    "test_dir = \"./obrazki/\"\n",
    "\n",
    "# transformacje dla obrazków (normalizacja, przekształcenie do tensorów)\n",
    "transform = transforms.Compose(\n",
    "    [transforms.Resize((128,128)),\n",
    "     transforms.ToTensor(),\n",
    "     transforms.Normalize((0.5, 0.5, 0.5), (0.5, 0.5, 0.5))])\n",
    "\n",
    "# wczytanie danych treningowych\n",
    "train_data = ImageFolder(root=train_dir, transform=transform)\n",
    "train_loader = data.DataLoader(train_data, batch_size=4, shuffle=True, num_workers=2)\n",
    "\n",
    "# wczytanie danych testowych\n",
    "test_data = ImageFolder(root=test_dir, transform=transform)\n",
    "test_loader = data.DataLoader(test_data, batch_size=4, shuffle=False, num_workers=2)\n"
   ]
  },
  {
   "cell_type": "code",
   "execution_count": 4,
   "id": "d1f7d759",
   "metadata": {},
   "outputs": [],
   "source": [
    "class Net(torch.nn.Module):\n",
    "    def __init__(self):\n",
    "        super(Net, self).__init__()\n",
    "        self.conv1 = torch.nn.Conv2d(3, 16, kernel_size=3, stride=1, padding=1)\n",
    "        self.conv2 = torch.nn.Conv2d(16, 32, kernel_size=3, stride=1, padding=1)\n",
    "        self.conv3 = torch.nn.Conv2d(32, 64, kernel_size=3, stride=1, padding=1)\n",
    "        self.pool = torch.nn.MaxPool2d(kernel_size=2, stride=2)\n",
    "        self.fc1 = torch.nn.Linear(64 * 16 * 16, 512)\n",
    "        self.fc2 = torch.nn.Linear(512, 10)\n",
    "        self.relu = torch.nn.ReLU()\n",
    "\n",
    "    def forward(self, x):\n",
    "        x = self.conv1(x)\n",
    "        x = self.relu(x)\n",
    "        x = self.pool(x)\n",
    "        x = self.conv2(x)\n",
    "        x = self.relu(x)\n",
    "        x = self.pool(x)\n",
    "        x = self.conv3(x)\n",
    "        x = self.relu(x)\n",
    "        x = self.pool(x)\n",
    "        x = x.view(-1, 64 * 16 * 16)\n",
    "        x = self.fc1(x)\n",
    "        x = self.relu(x)\n",
    "        x = self.fc2(x)\n",
    "        return x\n",
    "\n",
    "net = Net()\n"
   ]
  },
  {
   "cell_type": "code",
   "execution_count": 5,
   "id": "3eb6302e",
   "metadata": {},
   "outputs": [],
   "source": [
    "class Net(torch.nn.Module):\n",
    "    def __init__(self):\n",
    "        super(Net, self).__init__()\n",
    "        self.conv1 = torch.nn.Conv2d(3, 16, kernel_size=3, stride=1, padding=1)\n",
    "        self.conv2 = torch.nn.Conv2d(16, 32, kernel_size=3, stride=1, padding=1)\n",
    "        self.conv3 = torch.nn.Conv2d(32, 64, kernel_size=3, stride=1, padding=1)\n",
    "        self.pool = torch.nn.MaxPool2d(kernel_size=2, stride=2)\n",
    "        self.fc1 = torch.nn.Linear(64 * 16 * 16, 512)\n",
    "        self.fc2 = torch.nn.Linear(512, 10)\n",
    "        self.dropout = torch.nn.Dropout(p=0.5)\n",
    "        self.relu = torch.nn.ReLU()\n",
    "\n",
    "    def forward(self, x):\n",
    "        x = self.conv1(x)\n",
    "        x = self.relu(x)\n",
    "        x = self.pool(x)\n",
    "        x = self.conv2(x)\n",
    "        x = self.relu(x)\n",
    "        x = self.pool(x)\n",
    "        x = self.conv3(x)\n",
    "        x = self.relu(x)\n",
    "        x = self.pool(x)\n",
    "        x = x.view(-1, 64 * 16 * 16)\n",
    "        x = self.fc1(x)\n",
    "        x = self.dropout(x)\n",
    "        x = self.relu(x)\n",
    "        x = self.fc2(x)\n",
    "        x = self.dropout(x)\n",
    "        return x\n",
    "\n",
    "net = Net()\n"
   ]
  },
  {
   "cell_type": "code",
   "execution_count": 6,
   "id": "263519b9",
   "metadata": {},
   "outputs": [],
   "source": [
    "criterion = torch.nn.CrossEntropyLoss()\n",
    "optimizer = torch.optim.Adam(net.parameters(), lr=0.001)\n"
   ]
  },
  {
   "cell_type": "code",
   "execution_count": 7,
   "id": "d827e790",
   "metadata": {},
   "outputs": [
    {
     "name": "stdout",
     "output_type": "stream",
     "text": [
      "[Epoch 1] Train Loss: 1.876 | Train Acc: 0.305 | Test Loss: 1.536 | Test Acc: 0.421\n",
      "[Epoch 2] Train Loss: 1.483 | Train Acc: 0.447 | Test Loss: 1.287 | Test Acc: 0.497\n",
      "[Epoch 3] Train Loss: 1.298 | Train Acc: 0.489 | Test Loss: 1.238 | Test Acc: 0.517\n",
      "[Epoch 4] Train Loss: 1.159 | Train Acc: 0.531 | Test Loss: 1.021 | Test Acc: 0.577\n",
      "[Epoch 5] Train Loss: 1.106 | Train Acc: 0.543 | Test Loss: 1.097 | Test Acc: 0.556\n",
      "[Epoch 6] Train Loss: 1.092 | Train Acc: 0.547 | Test Loss: 1.156 | Test Acc: 0.541\n",
      "[Epoch 7] Train Loss: 1.041 | Train Acc: 0.573 | Test Loss: 0.974 | Test Acc: 0.562\n",
      "[Epoch 8] Train Loss: 0.978 | Train Acc: 0.577 | Test Loss: 0.958 | Test Acc: 0.581\n",
      "[Epoch 9] Train Loss: 0.942 | Train Acc: 0.590 | Test Loss: 0.916 | Test Acc: 0.577\n",
      "[Epoch 10] Train Loss: 0.909 | Train Acc: 0.581 | Test Loss: 0.907 | Test Acc: 0.577\n"
     ]
    },
    {
     "data": {
      "image/png": "[encoded data removed]",
      "text/plain": [
       "<Figure size 1000x500 with 2 Axes>"
      ]
     },
     "metadata": {},
     "output_type": "display_data"
    }
   ],
   "source": [
    "\n",
    "import matplotlib.pyplot as plt\n",
    "\n",
    "train_loss_history = []\n",
    "train_acc_history = []\n",
    "test_loss_history = []\n",
    "test_acc_history = []\n",
    "\n",
    "num_epochs = 10\n",
    "\n",
    "for epoch in range(num_epochs):\n",
    "    running_loss = 0.0\n",
    "    correct = 0\n",
    "    total = 0\n",
    "    for i, data in enumerate(train_loader, 0):\n",
    "        inputs, labels = data\n",
    "        optimizer.zero_grad()\n",
    "        outputs = net(inputs)\n",
    "        loss = criterion(outputs, labels)\n",
    "        loss.backward()\n",
    "        optimizer.step()\n",
    "        running_loss += loss.item()\n",
    "        _, predicted = outputs.max(1)\n",
    "        total += labels.size(0)\n",
    "        correct += predicted.eq(labels).sum().item()\n",
    "    train_loss = running_loss / len(train_loader)\n",
    "    train_acc = correct / total\n",
    "    train_loss_history.append(train_loss)\n",
    "    train_acc_history.append(train_acc)\n",
    "\n",
    "    running_loss = 0.0\n",
    "    correct = 0\n",
    "    total = 0\n",
    "    with torch.no_grad():\n",
    "        for data in test_loader:\n",
    "            inputs, labels = data\n",
    "            outputs = net(inputs)\n",
    "            loss = criterion(outputs, labels)\n",
    "            running_loss += loss.item()\n",
    "            _, predicted = outputs.max(1)\n",
    "            total += labels.size(0)\n",
    "            correct += predicted.eq(labels).sum().item()\n",
    "    test_loss = running_loss / len(test_loader)\n",
    "    test_acc = correct / total\n",
    "    test_loss_history.append(test_loss)\n",
    "    test_acc_history.append(test_acc)\n",
    "\n",
    "    print('[Epoch %d] Train Loss: %.3f | Train Acc: %.3f | Test Loss: %.3f | Test Acc: %.3f' %\n",
    "          (epoch + 1, train_loss, train_acc, test_loss, test_acc))\n",
    "\n",
    "plt.figure(figsize=(10,5))\n",
    "plt.subplot(1,2,1)\n",
    "plt.plot(train_loss_history,label='train')\n",
    "plt.plot(test_loss_history,label='test')\n",
    "plt.title('Loss')\n",
    "plt.legend()\n",
    "\n",
    "plt.subplot(1,2,2)\n",
    "plt.plot(train_acc_history,label='train')\n",
    "plt.plot(test_acc_history,label='test')\n",
    "plt.title('Accuracy')\n",
    "plt.legend()\n",
    "plt.show()\n"
   ]
  },
  {
   "cell_type": "code",
   "execution_count": 8,
   "id": "586be228",
   "metadata": {},
   "outputs": [
    {
     "name": "stdout",
     "output_type": "stream",
     "text": [
      "Accuracy of the network on 1000 test images: 60 %\n"
     ]
    }
   ],
   "source": [
    "correct = 0\n",
    "total = 0 \n",
    "with torch.no_grad():\n",
    "    for data in test_loader:\n",
    "        images, labels = data\n",
    "        outputs = net(images)\n",
    "        _, predicted = torch.max(outputs.data,1)\n",
    "        total += labels.size(0)\n",
    "        correct += (predicted==labels).sum().item()\n",
    "\n",
    "print('Accuracy of the network on 1000 test images: %d %%' %(100*correct/total))"
   ]
  },
  {
   "cell_type": "code",
   "execution_count": 9,
   "id": "227cc5ca",
   "metadata": {},
   "outputs": [
    {
     "name": "stdout",
     "output_type": "stream",
     "text": [
      "                Precision  Recall     Specificity F1-Score  \n",
      "apple           0.28       0.94       0.77       0.43      \n",
      "blueberry       0.51       0.74       0.89       0.60      \n",
      "cherry          0.52       0.62       0.95       0.56      \n",
      "corn            0.75       0.56       0.97       0.64      \n",
      "grape           0.85       0.53       0.99       0.65      \n",
      "peach           0.93       0.51       1.00       0.66      \n",
      "potato          0.86       0.49       1.00       0.62      \n",
      "potatosick      0.96       0.46       1.00       0.62      \n",
      "strawberry      0.80       0.55       0.99       0.65      \n",
      "tomato          0.97       0.50       1.00       0.66      \n"
     ]
    }
   ],
   "source": [
    "# przygotowanie pustej listy na etykiety klas\n",
    "classes = []\n",
    "data_dir = './obrazki/'\n",
    "for folder in os.listdir(data_dir):\n",
    "    if os.path.isdir(os.path.join(data_dir, folder)):\n",
    "        classes.append(folder)\n",
    "\n",
    "# inicjalizacja liczników TP, FP, TN, FN\n",
    "tp = torch.zeros(len(classes))\n",
    "fp = torch.zeros(len(classes))\n",
    "tn = torch.zeros(len(classes))\n",
    "fn = torch.zeros(len(classes))\n",
    "\n",
    "# obliczanie TP, FP, TN, FN dla każdej klasy\n",
    "with torch.no_grad():\n",
    "    for data in test_loader:\n",
    "        images, labels = data\n",
    "        outputs = net(images)\n",
    "        _, predicted = torch.max(outputs.data, 1)\n",
    "        for i in range(len(classes)):\n",
    "            tp[i] += ((predicted == i) & (labels == i)).sum().item()\n",
    "            fp[i] += ((predicted == i) & (labels != i)).sum().item()\n",
    "            tn[i] += ((predicted != i) & (labels != i)).sum().item()\n",
    "            fn[i] += ((predicted != i) & (labels == i)).sum().item()\n",
    "\n",
    "# obliczanie precyzji, czułości, specyficzności i F1-score dla każdej klasy\n",
    "precision = tp / (tp + fp)\n",
    "recall = tp / (tp + fn)\n",
    "specificity = tn / (tn + fp)\n",
    "f1_score = 2 * precision * recall / (precision + recall)\n",
    "\n",
    "# wyświetlanie wyników w postaci tabeli\n",
    "print('{:<15s} {:<10s} {:<10s} {:<10s} {:<10s}'.format('', 'Precision', 'Recall', 'Specificity', 'F1-Score'))\n",
    "for i, class_name in enumerate(classes):\n",
    "    print('{:<15s} {:<10.2f} {:<10.2f} {:<10.2f} {:<10.2f}'.format(class_name, precision[i], recall[i], specificity[i], f1_score[i]))\n"
   ]
  }
 ],
 "metadata": {
  "kernelspec": {
   "display_name": "Python 3 (ipykernel)",
   "language": "python",
   "name": "python3"
  },
  "language_info": {
   "codemirror_mode": {
    "name": "ipython",
    "version": 3
   },
   "file_extension": ".py",
   "mimetype": "text/x-python",
   "name": "python",
   "nbconvert_exporter": "python",
   "pygments_lexer": "ipython3",
   "version": "3.10.10"
  }
 },
 "nbformat": 4,
 "nbformat_minor": 5
}
